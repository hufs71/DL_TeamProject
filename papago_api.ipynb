{
  "nbformat": 4,
  "nbformat_minor": 0,
  "metadata": {
    "colab": {
      "provenance": [],
      "authorship_tag": "ABX9TyMMJSaYeANXmtvM9BUzyGR3",
      "include_colab_link": true
    },
    "kernelspec": {
      "name": "python3",
      "display_name": "Python 3"
    },
    "language_info": {
      "name": "python"
    }
  },
  "cells": [
    {
      "cell_type": "markdown",
      "metadata": {
        "id": "view-in-github",
        "colab_type": "text"
      },
      "source": [
        "<a href=\"https://colab.research.google.com/github/kimjh0607/DL_TeamProject/blob/main/papago_api.ipynb\" target=\"_parent\"><img src=\"https://colab.research.google.com/assets/colab-badge.svg\" alt=\"Open In Colab\"/></a>"
      ]
    },
    {
      "cell_type": "code",
      "execution_count": 1,
      "metadata": {
        "id": "U0vR777g2bJt"
      },
      "outputs": [],
      "source": [
        "import os\n",
        "import sys\n",
        "import urllib.request\n",
        "import json\n",
        "\n",
        "def eng2kor(text):\n",
        "  client_id = \"4FBJJuJnnFxrnVEevRvh\" # 개발자센터에서 발급받은 Client ID 값\n",
        "  client_secret = \"TKNviZ5bd2\" # 개발자센터에서 발급받은 Client Secret 값\n",
        "\n",
        "  encText = urllib.parse.quote(text)\n",
        "  data = \"source=en&target=ko&text=\" + encText\n",
        "  url = \"https://openapi.naver.com/v1/papago/n2mt\"\n",
        "\n",
        "  request = urllib.request.Request(url)\n",
        "  request.add_header(\"X-Naver-Client-Id\",client_id)\n",
        "  request.add_header(\"X-Naver-Client-Secret\",client_secret)\n",
        "  response = urllib.request.urlopen(request, data=data.encode(\"utf-8\"))\n",
        "  rescode = response.getcode()\n",
        "  if(rescode==200):\n",
        "      response_body = response.read()\n",
        "      result = json.loads(response_body.decode('utf-8'))\n",
        "      result = result['message']['result']['translatedText']\n",
        "      return result\n",
        "  else:\n",
        "      print(\"Error Code:\" + rescode)"
      ]
    },
    {
      "cell_type": "code",
      "source": [
        "sentence = 'I am a data school student. I\\'m doing project these days.'\n",
        "kor = eng2kor(sentence)\n",
        "kor"
      ],
      "metadata": {
        "colab": {
          "base_uri": "https://localhost:8080/",
          "height": 36
        },
        "id": "skkwupZA2gOq",
        "outputId": "4e3340bb-f255-4bf9-c662-8ea338306c6a"
      },
      "execution_count": 2,
      "outputs": [
        {
          "output_type": "execute_result",
          "data": {
            "text/plain": [
              "'저는 데이터 스쿨 학생입니다. 저는 요즘 프로젝트를 하고 있어요.'"
            ],
            "application/vnd.google.colaboratory.intrinsic+json": {
              "type": "string"
            }
          },
          "metadata": {},
          "execution_count": 2
        }
      ]
    }
  ]
}